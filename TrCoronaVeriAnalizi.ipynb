{
  "nbformat": 4,
  "nbformat_minor": 0,
  "metadata": {
    "colab": {
      "name": "TrCoronaVeriAnalizi.ipynb",
      "provenance": [],
      "collapsed_sections": [],
      "authorship_tag": "ABX9TyNhEjJWoviCAtnkqRTrjakF",
      "include_colab_link": true
    },
    "kernelspec": {
      "name": "python3",
      "display_name": "Python 3"
    },
    "accelerator": "GPU"
  },
  "cells": [
    {
      "cell_type": "markdown",
      "metadata": {
        "id": "view-in-github",
        "colab_type": "text"
      },
      "source": [
        "<a href=\"https://colab.research.google.com/github/alhnklc/Covid-19-Turkey-Data-Analysis/blob/master/TrCoronaVeriAnalizi.ipynb\" target=\"_parent\"><img src=\"https://colab.research.google.com/assets/colab-badge.svg\" alt=\"Open In Colab\"/></a>"
      ]
    },
    {
      "cell_type": "code",
      "metadata": {
        "id": "JD-MeRxEbD8z",
        "outputId": "b2452463-e73d-48b3-a5f8-0e98bf42f729",
        "colab": {
          "base_uri": "https://localhost:8080/",
          "height": 50
        }
      },
      "source": [
        "from google.colab import drive\n",
        "drive.mount(\"/gdrive\")\n",
        "%cd /gdrive"
      ],
      "execution_count": null,
      "outputs": [
        {
          "output_type": "stream",
          "text": [
            "Drive already mounted at /gdrive; to attempt to forcibly remount, call drive.mount(\"/gdrive\", force_remount=True).\n",
            "/gdrive\n"
          ],
          "name": "stdout"
        }
      ]
    },
    {
      "cell_type": "code",
      "metadata": {
        "id": "oG-7ntl8bvgZ",
        "outputId": "298e9c6f-1575-4e52-c06a-fd4870553702",
        "colab": {
          "base_uri": "https://localhost:8080/",
          "height": 98
        }
      },
      "source": [
        "import os\n",
        "os.chdir(\"/gdrive/My Drive/Veri Bilimi\")\n",
        "!ls"
      ],
      "execution_count": null,
      "outputs": [
        {
          "output_type": "stream",
          "text": [
            "ArabaAnalizi.ipynb\t Matplotlib.ipynb  PytonDeneme.xlsx\n",
            "bisiklet_fiyatlari.xlsx  merc.xlsx\t   Sınıflandırma.ipynb\n",
            "bisiklet_modeli.h5\t model.png\t   TensorFlow.ipynb\n",
            "Corona_TR.xlsx\t\t Numpy.ipynb\t   TrCoronaVeriAnalizi.ipynb\n",
            "maliciousornot.xlsx\t PANDAS.ipynb\n"
          ],
          "name": "stdout"
        }
      ]
    },
    {
      "cell_type": "code",
      "metadata": {
        "id": "7y109of3cEIN"
      },
      "source": [
        "import pandas as pd\n",
        "import numpy as np\n",
        "import matplotlib.pyplot as plt\n",
        "import seaborn as sbn\n"
      ],
      "execution_count": null,
      "outputs": []
    },
    {
      "cell_type": "code",
      "metadata": {
        "id": "7dS0RP8DcLQ0"
      },
      "source": [
        "from sklearn.model_selection import train_test_split\n",
        "from sklearn.preprocessing import MinMaxScaler"
      ],
      "execution_count": null,
      "outputs": []
    },
    {
      "cell_type": "code",
      "metadata": {
        "id": "q6FQs6eCcR49",
        "outputId": "35aef775-fd5d-4db1-a144-18bdcfa79eea",
        "colab": {
          "base_uri": "https://localhost:8080/",
          "height": 272
        }
      },
      "source": [
        "data = pd.read_excel(\"Corona_TR.xlsx\")\n",
        "data.head()"
      ],
      "execution_count": null,
      "outputs": [
        {
          "output_type": "execute_result",
          "data": {
            "text/html": [
              "<div>\n",
              "<style scoped>\n",
              "    .dataframe tbody tr th:only-of-type {\n",
              "        vertical-align: middle;\n",
              "    }\n",
              "\n",
              "    .dataframe tbody tr th {\n",
              "        vertical-align: top;\n",
              "    }\n",
              "\n",
              "    .dataframe thead th {\n",
              "        text-align: right;\n",
              "    }\n",
              "</style>\n",
              "<table border=\"1\" class=\"dataframe\">\n",
              "  <thead>\n",
              "    <tr style=\"text-align: right;\">\n",
              "      <th></th>\n",
              "      <th>Tarih</th>\n",
              "      <th>Toplam Test Sayısı</th>\n",
              "      <th>Toplam Hasta Sayısı</th>\n",
              "      <th>Toplam Vefat Sayısı</th>\n",
              "      <th>Hastalarda Zatürre Oranı (%)</th>\n",
              "      <th>Ağır Hasta Sayısı</th>\n",
              "      <th>Toplam İyileşen Hasta Sayısı</th>\n",
              "      <th>Bugünkü Hasta Sayısı</th>\n",
              "      <th>Bugünkü Test Sayısı</th>\n",
              "      <th>Bugünkü Vefat Sayısı</th>\n",
              "      <th>Bugünkü İyileşen Sayısı</th>\n",
              "    </tr>\n",
              "  </thead>\n",
              "  <tbody>\n",
              "    <tr>\n",
              "      <th>0</th>\n",
              "      <td>2020-09-28</td>\n",
              "      <td>10153223.0</td>\n",
              "      <td>315845</td>\n",
              "      <td>8062.0</td>\n",
              "      <td>65.0</td>\n",
              "      <td>1596.0</td>\n",
              "      <td>277052.0</td>\n",
              "      <td>1412.0</td>\n",
              "      <td>115523.0</td>\n",
              "      <td>65.0</td>\n",
              "      <td>1422.0</td>\n",
              "    </tr>\n",
              "    <tr>\n",
              "      <th>1</th>\n",
              "      <td>2020-09-27</td>\n",
              "      <td>10037700.0</td>\n",
              "      <td>314433</td>\n",
              "      <td>7997.0</td>\n",
              "      <td>65.0</td>\n",
              "      <td>1583.0</td>\n",
              "      <td>275630.0</td>\n",
              "      <td>1467.0</td>\n",
              "      <td>101119.0</td>\n",
              "      <td>68.0</td>\n",
              "      <td>1116.0</td>\n",
              "    </tr>\n",
              "    <tr>\n",
              "      <th>2</th>\n",
              "      <td>2020-09-26</td>\n",
              "      <td>9936581.0</td>\n",
              "      <td>312966</td>\n",
              "      <td>7929.0</td>\n",
              "      <td>66.0</td>\n",
              "      <td>1615.0</td>\n",
              "      <td>274514.0</td>\n",
              "      <td>1511.0</td>\n",
              "      <td>102009.0</td>\n",
              "      <td>71.0</td>\n",
              "      <td>1232.0</td>\n",
              "    </tr>\n",
              "    <tr>\n",
              "      <th>3</th>\n",
              "      <td>2020-09-25</td>\n",
              "      <td>9834572.0</td>\n",
              "      <td>311455</td>\n",
              "      <td>7858.0</td>\n",
              "      <td>66.0</td>\n",
              "      <td>1601.0</td>\n",
              "      <td>273282.0</td>\n",
              "      <td>1665.0</td>\n",
              "      <td>112885.0</td>\n",
              "      <td>73.0</td>\n",
              "      <td>1318.0</td>\n",
              "    </tr>\n",
              "    <tr>\n",
              "      <th>4</th>\n",
              "      <td>2020-09-24</td>\n",
              "      <td>9721687.0</td>\n",
              "      <td>309790</td>\n",
              "      <td>7785.0</td>\n",
              "      <td>66.0</td>\n",
              "      <td>1573.0</td>\n",
              "      <td>271964.0</td>\n",
              "      <td>1721.0</td>\n",
              "      <td>113317.0</td>\n",
              "      <td>74.0</td>\n",
              "      <td>1241.0</td>\n",
              "    </tr>\n",
              "  </tbody>\n",
              "</table>\n",
              "</div>"
            ],
            "text/plain": [
              "       Tarih  Toplam Test Sayısı  ...  Bugünkü Vefat Sayısı  Bugünkü İyileşen Sayısı\n",
              "0 2020-09-28          10153223.0  ...                  65.0                   1422.0\n",
              "1 2020-09-27          10037700.0  ...                  68.0                   1116.0\n",
              "2 2020-09-26           9936581.0  ...                  71.0                   1232.0\n",
              "3 2020-09-25           9834572.0  ...                  73.0                   1318.0\n",
              "4 2020-09-24           9721687.0  ...                  74.0                   1241.0\n",
              "\n",
              "[5 rows x 11 columns]"
            ]
          },
          "metadata": {
            "tags": []
          },
          "execution_count": 275
        }
      ]
    },
    {
      "cell_type": "code",
      "metadata": {
        "id": "t_TDEG22cdX_"
      },
      "source": [
        "#NaN olan verileri 0 yaptık\n",
        "DataFrame = data.fillna(0)"
      ],
      "execution_count": null,
      "outputs": []
    },
    {
      "cell_type": "code",
      "metadata": {
        "id": "-rn004aHcmet",
        "outputId": "b34ea35b-df41-462c-bf74-2fde853a40b5",
        "colab": {
          "base_uri": "https://localhost:8080/",
          "height": 277
        }
      },
      "source": [
        "DataFrame.describe()"
      ],
      "execution_count": null,
      "outputs": [
        {
          "output_type": "execute_result",
          "data": {
            "text/html": [
              "<div>\n",
              "<style scoped>\n",
              "    .dataframe tbody tr th:only-of-type {\n",
              "        vertical-align: middle;\n",
              "    }\n",
              "\n",
              "    .dataframe tbody tr th {\n",
              "        vertical-align: top;\n",
              "    }\n",
              "\n",
              "    .dataframe thead th {\n",
              "        text-align: right;\n",
              "    }\n",
              "</style>\n",
              "<table border=\"1\" class=\"dataframe\">\n",
              "  <thead>\n",
              "    <tr style=\"text-align: right;\">\n",
              "      <th></th>\n",
              "      <th>Toplam Test Sayısı</th>\n",
              "      <th>Toplam Hasta Sayısı</th>\n",
              "      <th>Toplam Vefat Sayısı</th>\n",
              "      <th>Hastalarda Zatürre Oranı (%)</th>\n",
              "      <th>Ağır Hasta Sayısı</th>\n",
              "      <th>Toplam İyileşen Hasta Sayısı</th>\n",
              "      <th>Bugünkü Hasta Sayısı</th>\n",
              "      <th>Bugünkü Test Sayısı</th>\n",
              "      <th>Bugünkü Vefat Sayısı</th>\n",
              "      <th>Bugünkü İyileşen Sayısı</th>\n",
              "    </tr>\n",
              "  </thead>\n",
              "  <tbody>\n",
              "    <tr>\n",
              "      <th>count</th>\n",
              "      <td>2.010000e+02</td>\n",
              "      <td>201.000000</td>\n",
              "      <td>201.000000</td>\n",
              "      <td>201.000000</td>\n",
              "      <td>201.000000</td>\n",
              "      <td>201.000000</td>\n",
              "      <td>201.000000</td>\n",
              "      <td>201.000000</td>\n",
              "      <td>201.000000</td>\n",
              "      <td>201.000000</td>\n",
              "    </tr>\n",
              "    <tr>\n",
              "      <th>mean</th>\n",
              "      <td>3.454578e+06</td>\n",
              "      <td>172095.875622</td>\n",
              "      <td>4331.009950</td>\n",
              "      <td>13.298507</td>\n",
              "      <td>301.064677</td>\n",
              "      <td>141686.671642</td>\n",
              "      <td>1547.572139</td>\n",
              "      <td>50076.696517</td>\n",
              "      <td>39.636816</td>\n",
              "      <td>1369.920398</td>\n",
              "    </tr>\n",
              "    <tr>\n",
              "      <th>std</th>\n",
              "      <td>2.864405e+06</td>\n",
              "      <td>90972.783629</td>\n",
              "      <td>2237.593489</td>\n",
              "      <td>27.374494</td>\n",
              "      <td>491.983476</td>\n",
              "      <td>93446.916304</td>\n",
              "      <td>1021.582168</td>\n",
              "      <td>31786.308863</td>\n",
              "      <td>31.774242</td>\n",
              "      <td>1132.669468</td>\n",
              "    </tr>\n",
              "    <tr>\n",
              "      <th>min</th>\n",
              "      <td>0.000000e+00</td>\n",
              "      <td>1.000000</td>\n",
              "      <td>0.000000</td>\n",
              "      <td>0.000000</td>\n",
              "      <td>0.000000</td>\n",
              "      <td>0.000000</td>\n",
              "      <td>0.000000</td>\n",
              "      <td>0.000000</td>\n",
              "      <td>0.000000</td>\n",
              "      <td>0.000000</td>\n",
              "    </tr>\n",
              "    <tr>\n",
              "      <th>25%</th>\n",
              "      <td>1.033617e+06</td>\n",
              "      <td>120204.000000</td>\n",
              "      <td>3174.000000</td>\n",
              "      <td>0.000000</td>\n",
              "      <td>0.000000</td>\n",
              "      <td>48886.000000</td>\n",
              "      <td>989.000000</td>\n",
              "      <td>33332.000000</td>\n",
              "      <td>18.000000</td>\n",
              "      <td>968.000000</td>\n",
              "    </tr>\n",
              "    <tr>\n",
              "      <th>50%</th>\n",
              "      <td>2.863632e+06</td>\n",
              "      <td>185245.000000</td>\n",
              "      <td>4905.000000</td>\n",
              "      <td>0.000000</td>\n",
              "      <td>0.000000</td>\n",
              "      <td>157516.000000</td>\n",
              "      <td>1304.000000</td>\n",
              "      <td>42320.000000</td>\n",
              "      <td>23.000000</td>\n",
              "      <td>1093.000000</td>\n",
              "    </tr>\n",
              "    <tr>\n",
              "      <th>75%</th>\n",
              "      <td>5.263816e+06</td>\n",
              "      <td>240804.000000</td>\n",
              "      <td>5844.000000</td>\n",
              "      <td>7.500000</td>\n",
              "      <td>596.000000</td>\n",
              "      <td>223759.000000</td>\n",
              "      <td>1703.000000</td>\n",
              "      <td>61716.000000</td>\n",
              "      <td>59.000000</td>\n",
              "      <td>1488.000000</td>\n",
              "    </tr>\n",
              "    <tr>\n",
              "      <th>max</th>\n",
              "      <td>1.015322e+07</td>\n",
              "      <td>315845.000000</td>\n",
              "      <td>8062.000000</td>\n",
              "      <td>94.000000</td>\n",
              "      <td>1615.000000</td>\n",
              "      <td>277052.000000</td>\n",
              "      <td>5138.000000</td>\n",
              "      <td>117113.000000</td>\n",
              "      <td>127.000000</td>\n",
              "      <td>5231.000000</td>\n",
              "    </tr>\n",
              "  </tbody>\n",
              "</table>\n",
              "</div>"
            ],
            "text/plain": [
              "       Toplam Test Sayısı  ...  Bugünkü İyileşen Sayısı\n",
              "count        2.010000e+02  ...               201.000000\n",
              "mean         3.454578e+06  ...              1369.920398\n",
              "std          2.864405e+06  ...              1132.669468\n",
              "min          0.000000e+00  ...                 0.000000\n",
              "25%          1.033617e+06  ...               968.000000\n",
              "50%          2.863632e+06  ...              1093.000000\n",
              "75%          5.263816e+06  ...              1488.000000\n",
              "max          1.015322e+07  ...              5231.000000\n",
              "\n",
              "[8 rows x 10 columns]"
            ]
          },
          "metadata": {
            "tags": []
          },
          "execution_count": 277
        }
      ]
    },
    {
      "cell_type": "code",
      "metadata": {
        "id": "k9oj9x_OcwEY"
      },
      "source": [
        "#Verileri Tarihe göre sıraladık en baştan mevcut güne kadar\n",
        "DataFrame = DataFrame.sort_values(by=\"Tarih\", ascending=True)"
      ],
      "execution_count": null,
      "outputs": []
    },
    {
      "cell_type": "code",
      "metadata": {
        "id": "wcOR0UsIgXWR",
        "outputId": "61b60bd2-dc57-4366-ecf0-b0e6ee9ff46e",
        "colab": {
          "base_uri": "https://localhost:8080/",
          "height": 1000
        }
      },
      "source": [
        "plt.figure(figsize=(15,15), dpi=100)\n",
        "plt.subplot(2,2,1)\n",
        "plt.title(\"Hasta Sayıları\")\n",
        "plt.ylabel(\"Bugunkü Hasta Sayısı\")\n",
        "plt.xlabel(\"Tarih\")\n",
        "plt.plot(DataFrame[\"Tarih\"],DataFrame[\"Bugünkü Hasta Sayısı\"])\n",
        "\n",
        "plt.subplot(2,2,2)\n",
        "plt.ylabel(\"Bugunkü Test Sayısı\")\n",
        "plt.xlabel(\"Tarih\")\n",
        "plt.title(\"Test Sayıları\")\n",
        "plt.bar(DataFrame[\"Tarih\"], DataFrame[\"Bugünkü Test Sayısı\"])\n",
        "\n",
        "plt.subplot(2,2,3)\n",
        "plt.title(\"Vefat Sayıları\")\n",
        "plt.ylabel(\"Bugunkü Vefat Sayısı\")\n",
        "plt.xlabel(\"Tarih\")\n",
        "plt.plot(DataFrame[\"Tarih\"],DataFrame[\"Bugünkü Vefat Sayısı\"], \"-*r\")\n",
        "\n",
        "plt.subplot(2,2,4)\n",
        "plt.title(\"İyileşen Sayıları\")\n",
        "plt.ylabel(\"Bugunkü İyileşen Sayısı\")\n",
        "plt.xlabel(\"Tarih\")\n",
        "plt.plot(DataFrame[\"Tarih\"],DataFrame[\"Bugünkü İyileşen Sayısı\"], color=\"Yellow\")"
      ],
      "execution_count": null,
      "outputs": [
        {
          "output_type": "execute_result",
          "data": {
            "text/plain": [
              "[<matplotlib.lines.Line2D at 0x7f2c0c082b70>]"
            ]
          },
          "metadata": {
            "tags": []
          },
          "execution_count": 352
        },
        {
          "output_type": "display_data",
          "data": {
            "image/png": "[encoded data removed]",
            "text/plain": [
              "<Figure size 1500x1500 with 4 Axes>"
            ]
          },
          "metadata": {
            "tags": [],
            "needs_background": "light"
          }
        }
      ]
    },
    {
      "cell_type": "code",
      "metadata": {
        "id": "R-LznYQZ_LPh",
        "outputId": "1a509446-2eb9-491c-8ef9-df4949ec3677",
        "colab": {
          "base_uri": "https://localhost:8080/",
          "height": 831
        }
      },
      "source": [
        "plt.figure(figsize=(10,10), dpi=100)\n",
        "plt.plot(DataFrame[\"Tarih\"],DataFrame[\"Toplam Hasta Sayısı\"])\n",
        "plt.plot(DataFrame[\"Tarih\"],DataFrame[\"Toplam İyileşen Hasta Sayısı\"])\n",
        "plt.legend([\"Toplam Hasta Sayısı\", \"Toplam İyileşen Hasta Sayısı\"])"
      ],
      "execution_count": null,
      "outputs": [
        {
          "output_type": "execute_result",
          "data": {
            "text/plain": [
              "<matplotlib.legend.Legend at 0x7f2c0c891470>"
            ]
          },
          "metadata": {
            "tags": []
          },
          "execution_count": 349
        },
        {
          "output_type": "display_data",
          "data": {
            "image/png": "[encoded data removed]",
            "text/plain": [
              "<Figure size 1000x1000 with 1 Axes>"
            ]
          },
          "metadata": {
            "tags": [],
            "needs_background": "light"
          }
        }
      ]
    },
    {
      "cell_type": "code",
      "metadata": {
        "id": "DG7uQCxFAqor",
        "outputId": "23d4476f-d394-47e5-d6a3-b8504d9582f3",
        "colab": {
          "base_uri": "https://localhost:8080/",
          "height": 873
        }
      },
      "source": [
        "plt.figure(figsize=(10,10), dpi=100)\n",
        "plt.title(\"Günlük Hasta Sayısı/Günlük Test Sayısı\")\n",
        "plt.xlabel(\"Tarih\")\n",
        "plt.ylabel(\"Yüzde(%)\")\n",
        "plt.plot(DataFrame[\"Tarih\"], (DataFrame[\"Bugünkü Hasta Sayısı\"]/DataFrame[\"Bugünkü Test Sayısı\"]))"
      ],
      "execution_count": null,
      "outputs": [
        {
          "output_type": "execute_result",
          "data": {
            "text/plain": [
              "[<matplotlib.lines.Line2D at 0x7f2c0bd10908>]"
            ]
          },
          "metadata": {
            "tags": []
          },
          "execution_count": 379
        },
        {
          "output_type": "display_data",
          "data": {
            "image/png": "[encoded data removed]",
            "text/plain": [
              "<Figure size 1000x1000 with 1 Axes>"
            ]
          },
          "metadata": {
            "tags": [],
            "needs_background": "light"
          }
        }
      ]
    },
    {
      "cell_type": "code",
      "metadata": {
        "id": "nUFq0Zgc0Ac1",
        "outputId": "bbd9b2e8-7ed0-44a7-dcc0-9427929c0b7d",
        "colab": {
          "base_uri": "https://localhost:8080/",
          "height": 851
        }
      },
      "source": [
        "plt.figure(figsize=(10,10), dpi=100)\n",
        "sbn.distplot(DataFrame[\"Hastalarda Zatürre Oranı (%)\"])"
      ],
      "execution_count": null,
      "outputs": [
        {
          "output_type": "execute_result",
          "data": {
            "text/plain": [
              "<matplotlib.axes._subplots.AxesSubplot at 0x7f2c0d659ac8>"
            ]
          },
          "metadata": {
            "tags": []
          },
          "execution_count": 377
        },
        {
          "output_type": "display_data",
          "data": {
            "image/png": "[encoded data removed]",
            "text/plain": [
              "<Figure size 1000x1000 with 1 Axes>"
            ]
          },
          "metadata": {
            "tags": [],
            "needs_background": "light"
          }
        }
      ]
    },
    {
      "cell_type": "code",
      "metadata": {
        "id": "CRX2jpWAj3He",
        "outputId": "30b9318e-ec6b-405a-fca4-87cb2eb029ab",
        "colab": {
          "base_uri": "https://localhost:8080/",
          "height": 196
        }
      },
      "source": [
        "#Bugünkü Hasta Sayısının kolerasyon analizi\n",
        "DataFrame.corr()[\"Bugünkü Hasta Sayısı\"]"
      ],
      "execution_count": null,
      "outputs": [
        {
          "output_type": "execute_result",
          "data": {
            "text/plain": [
              "Toplam Test Sayısı             -0.176124\n",
              "Toplam Hasta Sayısı            -0.191115\n",
              "Toplam Vefat Sayısı            -0.222992\n",
              "Hastalarda Zatürre Oranı (%)   -0.033820\n",
              "Ağır Hasta Sayısı              -0.035078\n",
              "Toplam İyileşen Hasta Sayısı   -0.327501\n",
              "Bugünkü Hasta Sayısı            1.000000\n",
              "Bugünkü Test Sayısı             0.062420\n",
              "Bugünkü Vefat Sayısı            0.881792\n",
              "Bugünkü İyileşen Sayısı         0.162251\n",
              "Name: Bugünkü Hasta Sayısı, dtype: float64"
            ]
          },
          "metadata": {
            "tags": []
          },
          "execution_count": 281
        }
      ]
    },
    {
      "cell_type": "code",
      "metadata": {
        "id": "sjKPzEEflt-0"
      },
      "source": [
        "#y değişkenine Bugünkü Hasta Sayısı verileri girdik çıkış olarak istediğimiz için\n",
        "#x değişkenine ise Tarih ve Bugünkü Hasta Sayısı verilerini düşürüp geriye kalan verileri atadık\n",
        "y = DataFrame[\"Bugünkü Hasta Sayısı\"].values\n",
        "x = DataFrame.drop([\"Bugünkü Hasta Sayısı\",\"Tarih\"], axis= 1).values"
      ],
      "execution_count": null,
      "outputs": []
    },
    {
      "cell_type": "code",
      "metadata": {
        "id": "EUMh8MCPqHbK",
        "outputId": "796857d0-905e-4251-eeea-50b46a61beac",
        "colab": {
          "base_uri": "https://localhost:8080/",
          "height": 33
        }
      },
      "source": [
        "y.shape"
      ],
      "execution_count": null,
      "outputs": [
        {
          "output_type": "execute_result",
          "data": {
            "text/plain": [
              "(201,)"
            ]
          },
          "metadata": {
            "tags": []
          },
          "execution_count": 283
        }
      ]
    },
    {
      "cell_type": "code",
      "metadata": {
        "id": "thTKjjX3qJFk",
        "outputId": "bd44f9f0-f17a-4637-839a-cdeda222269a",
        "colab": {
          "base_uri": "https://localhost:8080/",
          "height": 33
        }
      },
      "source": [
        "x.shape"
      ],
      "execution_count": null,
      "outputs": [
        {
          "output_type": "execute_result",
          "data": {
            "text/plain": [
              "(201, 9)"
            ]
          },
          "metadata": {
            "tags": []
          },
          "execution_count": 284
        }
      ]
    },
    {
      "cell_type": "code",
      "metadata": {
        "id": "ch2-Kw8_qb0q"
      },
      "source": [
        "#x ve y değişkenlerini test ve train olarka 2'ye ayırdık\n",
        "x_train, x_test, y_train, y_test = train_test_split(x, y)"
      ],
      "execution_count": null,
      "outputs": []
    },
    {
      "cell_type": "code",
      "metadata": {
        "id": "u_I43q9Vrqt4",
        "outputId": "5cb724dc-365e-438c-958f-7cfb0cb24f47",
        "colab": {
          "base_uri": "https://localhost:8080/",
          "height": 33
        }
      },
      "source": [
        "x_train.shape"
      ],
      "execution_count": null,
      "outputs": [
        {
          "output_type": "execute_result",
          "data": {
            "text/plain": [
              "(150, 9)"
            ]
          },
          "metadata": {
            "tags": []
          },
          "execution_count": 286
        }
      ]
    },
    {
      "cell_type": "code",
      "metadata": {
        "id": "7Y6PED5_r4Qz",
        "outputId": "85fbdc54-76a2-414f-90f0-ac03d66061a4",
        "colab": {
          "base_uri": "https://localhost:8080/",
          "height": 33
        }
      },
      "source": [
        "x_test.shape"
      ],
      "execution_count": null,
      "outputs": [
        {
          "output_type": "execute_result",
          "data": {
            "text/plain": [
              "(51, 9)"
            ]
          },
          "metadata": {
            "tags": []
          },
          "execution_count": 287
        }
      ]
    },
    {
      "cell_type": "code",
      "metadata": {
        "id": "kdMj8jgyr6Ya",
        "outputId": "41ddb652-7aa8-4b9f-9bc2-91f2776186fb",
        "colab": {
          "base_uri": "https://localhost:8080/",
          "height": 33
        }
      },
      "source": [
        "y_train.shape"
      ],
      "execution_count": null,
      "outputs": [
        {
          "output_type": "execute_result",
          "data": {
            "text/plain": [
              "(150,)"
            ]
          },
          "metadata": {
            "tags": []
          },
          "execution_count": 288
        }
      ]
    },
    {
      "cell_type": "code",
      "metadata": {
        "id": "0-FMx-Knr81A",
        "outputId": "7544c23e-1df1-472f-d34c-5cc31080be82",
        "colab": {
          "base_uri": "https://localhost:8080/",
          "height": 33
        }
      },
      "source": [
        "y_test.shape"
      ],
      "execution_count": null,
      "outputs": [
        {
          "output_type": "execute_result",
          "data": {
            "text/plain": [
              "(51,)"
            ]
          },
          "metadata": {
            "tags": []
          },
          "execution_count": 289
        }
      ]
    },
    {
      "cell_type": "code",
      "metadata": {
        "id": "JhnyDo99sMwZ"
      },
      "source": [
        "scaler = MinMaxScaler()"
      ],
      "execution_count": null,
      "outputs": []
    },
    {
      "cell_type": "code",
      "metadata": {
        "id": "XvpT_UQ_sTgw",
        "outputId": "aebdc585-e693-4bb4-a364-7a4c27421c8c",
        "colab": {
          "base_uri": "https://localhost:8080/",
          "height": 228
        }
      },
      "source": [
        "#x değişkenlerini 0-1 arasında sayısıya dönüştürdük\n",
        "x_train = scaler.fit_transform(x_train)\n",
        "x_test = scaler.fit_transform(x_test)\n",
        "x_train"
      ],
      "execution_count": null,
      "outputs": [
        {
          "output_type": "execute_result",
          "data": {
            "text/plain": [
              "array([[0.2176238 , 0.53003698, 0.57429918, ..., 0.4630912 , 0.16535433,\n",
              "        0.1770216 ],\n",
              "       [0.62319778, 0.81764415, 0.75924088, ..., 0.68567964, 0.1496063 ,\n",
              "        0.15197859],\n",
              "       [0.13499142, 0.43900153, 0.46961052, ..., 0.30899217, 0.37007874,\n",
              "        0.61384057],\n",
              "       ...,\n",
              "       [0.50609821, 0.75495814, 0.72103696, ..., 0.4843698 , 0.11811024,\n",
              "        0.19652074],\n",
              "       [0.52456594, 0.76618837, 0.72661871, ..., 0.53127321, 0.11023622,\n",
              "        0.23150449],\n",
              "       [0.        , 0.00211813, 0.00111635, ..., 0.        , 0.        ,\n",
              "        0.        ]])"
            ]
          },
          "metadata": {
            "tags": []
          },
          "execution_count": 291
        }
      ]
    },
    {
      "cell_type": "code",
      "metadata": {
        "id": "lN658ZaLs0d4"
      },
      "source": [
        "from tensorflow.keras.models import Sequential\n",
        "from tensorflow.keras.layers import Dense"
      ],
      "execution_count": null,
      "outputs": []
    },
    {
      "cell_type": "code",
      "metadata": {
        "id": "supJ6pnxtGA3"
      },
      "source": [
        "model = Sequential()"
      ],
      "execution_count": null,
      "outputs": []
    },
    {
      "cell_type": "code",
      "metadata": {
        "id": "alIuG771tN18"
      },
      "source": [
        "#Modelimizi Oluşturduk\n",
        "model.add(Dense(9, activation=\"relu\"))\n",
        "model.add(Dense(9, activation=\"relu\"))\n",
        "model.add(Dense(9, activation=\"relu\"))\n",
        "model.add(Dense(9, activation=\"relu\"))\n",
        "model.add(Dense(1))\n",
        "\n",
        "model.compile(optimizer=\"adam\", loss=\"mse\")"
      ],
      "execution_count": null,
      "outputs": []
    },
    {
      "cell_type": "code",
      "metadata": {
        "id": "w-onfBl2vTjy",
        "outputId": "2edabe05-0ea9-4b75-ff6f-ec50acb51ed7",
        "colab": {
          "base_uri": "https://localhost:8080/",
          "height": 1000
        }
      },
      "source": [
        "model.fit(x=x_train, y=y_train, epochs=150, validation_data=(x_test, y_test), batch_size=10)"
      ],
      "execution_count": null,
      "outputs": [
        {
          "output_type": "stream",
          "text": [
            "Epoch 1/150\n",
            "15/15 [==============================] - 0s 8ms/step - loss: 3518120.0000 - val_loss: 3187417.0000\n",
            "Epoch 2/150\n",
            "15/15 [==============================] - 0s 2ms/step - loss: 3517503.2500 - val_loss: 3186949.7500\n",
            "Epoch 3/150\n",
            "15/15 [==============================] - 0s 2ms/step - loss: 3517096.5000 - val_loss: 3186661.7500\n",
            "Epoch 4/150\n",
            "15/15 [==============================] - 0s 3ms/step - loss: 3516847.0000 - val_loss: 3186452.7500\n",
            "Epoch 5/150\n",
            "15/15 [==============================] - 0s 2ms/step - loss: 3516632.0000 - val_loss: 3186247.7500\n",
            "Epoch 6/150\n",
            "15/15 [==============================] - 0s 2ms/step - loss: 3516406.0000 - val_loss: 3186001.2500\n",
            "Epoch 7/150\n",
            "15/15 [==============================] - 0s 2ms/step - loss: 3516104.0000 - val_loss: 3185669.2500\n",
            "Epoch 8/150\n",
            "15/15 [==============================] - 0s 2ms/step - loss: 3515643.2500 - val_loss: 3185082.7500\n",
            "Epoch 9/150\n",
            "15/15 [==============================] - 0s 2ms/step - loss: 3514812.2500 - val_loss: 3184000.7500\n",
            "Epoch 10/150\n",
            "15/15 [==============================] - 0s 3ms/step - loss: 3513321.5000 - val_loss: 3181938.2500\n",
            "Epoch 11/150\n",
            "15/15 [==============================] - 0s 3ms/step - loss: 3510531.7500 - val_loss: 3178442.0000\n",
            "Epoch 12/150\n",
            "15/15 [==============================] - 0s 3ms/step - loss: 3505785.5000 - val_loss: 3172654.5000\n",
            "Epoch 13/150\n",
            "15/15 [==============================] - 0s 2ms/step - loss: 3498243.7500 - val_loss: 3163464.7500\n",
            "Epoch 14/150\n",
            "15/15 [==============================] - 0s 3ms/step - loss: 3486739.2500 - val_loss: 3149488.2500\n",
            "Epoch 15/150\n",
            "15/15 [==============================] - 0s 2ms/step - loss: 3469407.7500 - val_loss: 3129585.0000\n",
            "Epoch 16/150\n",
            "15/15 [==============================] - 0s 2ms/step - loss: 3445703.5000 - val_loss: 3102528.0000\n",
            "Epoch 17/150\n",
            "15/15 [==============================] - 0s 2ms/step - loss: 3414112.5000 - val_loss: 3065991.5000\n",
            "Epoch 18/150\n",
            "15/15 [==============================] - 0s 2ms/step - loss: 3371446.5000 - val_loss: 3019078.2500\n",
            "Epoch 19/150\n",
            "15/15 [==============================] - 0s 2ms/step - loss: 3316272.0000 - val_loss: 2959204.0000\n",
            "Epoch 20/150\n",
            "15/15 [==============================] - 0s 2ms/step - loss: 3249229.7500 - val_loss: 2881654.0000\n",
            "Epoch 21/150\n",
            "15/15 [==============================] - 0s 2ms/step - loss: 3161030.7500 - val_loss: 2789087.2500\n",
            "Epoch 22/150\n",
            "15/15 [==============================] - 0s 3ms/step - loss: 3056956.2500 - val_loss: 2676469.2500\n",
            "Epoch 23/150\n",
            "15/15 [==============================] - 0s 2ms/step - loss: 2930046.5000 - val_loss: 2545820.0000\n",
            "Epoch 24/150\n",
            "15/15 [==============================] - 0s 2ms/step - loss: 2785218.2500 - val_loss: 2395682.7500\n",
            "Epoch 25/150\n",
            "15/15 [==============================] - 0s 2ms/step - loss: 2622410.2500 - val_loss: 2231087.7500\n",
            "Epoch 26/150\n",
            "15/15 [==============================] - 0s 2ms/step - loss: 2447760.7500 - val_loss: 2056618.5000\n",
            "Epoch 27/150\n",
            "15/15 [==============================] - 0s 2ms/step - loss: 2259963.5000 - val_loss: 1885165.7500\n",
            "Epoch 28/150\n",
            "15/15 [==============================] - 0s 2ms/step - loss: 2079940.8750 - val_loss: 1717998.3750\n",
            "Epoch 29/150\n",
            "15/15 [==============================] - 0s 2ms/step - loss: 1907065.8750 - val_loss: 1569912.6250\n",
            "Epoch 30/150\n",
            "15/15 [==============================] - 0s 2ms/step - loss: 1755487.7500 - val_loss: 1448273.1250\n",
            "Epoch 31/150\n",
            "15/15 [==============================] - 0s 2ms/step - loss: 1632805.6250 - val_loss: 1358018.0000\n",
            "Epoch 32/150\n",
            "15/15 [==============================] - 0s 2ms/step - loss: 1536940.7500 - val_loss: 1299424.1250\n",
            "Epoch 33/150\n",
            "15/15 [==============================] - 0s 3ms/step - loss: 1470838.0000 - val_loss: 1262478.3750\n",
            "Epoch 34/150\n",
            "15/15 [==============================] - 0s 2ms/step - loss: 1428044.1250 - val_loss: 1237515.6250\n",
            "Epoch 35/150\n",
            "15/15 [==============================] - 0s 3ms/step - loss: 1394578.7500 - val_loss: 1221051.8750\n",
            "Epoch 36/150\n",
            "15/15 [==============================] - 0s 3ms/step - loss: 1370423.1250 - val_loss: 1207012.6250\n",
            "Epoch 37/150\n",
            "15/15 [==============================] - 0s 3ms/step - loss: 1350915.2500 - val_loss: 1192161.8750\n",
            "Epoch 38/150\n",
            "15/15 [==============================] - 0s 3ms/step - loss: 1332313.8750 - val_loss: 1177221.7500\n",
            "Epoch 39/150\n",
            "15/15 [==============================] - 0s 3ms/step - loss: 1315564.3750 - val_loss: 1162326.1250\n",
            "Epoch 40/150\n",
            "15/15 [==============================] - 0s 2ms/step - loss: 1298891.5000 - val_loss: 1148841.5000\n",
            "Epoch 41/150\n",
            "15/15 [==============================] - 0s 2ms/step - loss: 1282308.5000 - val_loss: 1132946.0000\n",
            "Epoch 42/150\n",
            "15/15 [==============================] - 0s 2ms/step - loss: 1265022.8750 - val_loss: 1118207.2500\n",
            "Epoch 43/150\n",
            "15/15 [==============================] - 0s 2ms/step - loss: 1249124.7500 - val_loss: 1103217.0000\n",
            "Epoch 44/150\n",
            "15/15 [==============================] - 0s 2ms/step - loss: 1232689.3750 - val_loss: 1087882.8750\n",
            "Epoch 45/150\n",
            "15/15 [==============================] - 0s 3ms/step - loss: 1217576.8750 - val_loss: 1073038.7500\n",
            "Epoch 46/150\n",
            "15/15 [==============================] - 0s 3ms/step - loss: 1204791.0000 - val_loss: 1058529.0000\n",
            "Epoch 47/150\n",
            "15/15 [==============================] - 0s 3ms/step - loss: 1186031.2500 - val_loss: 1043712.3125\n",
            "Epoch 48/150\n",
            "15/15 [==============================] - 0s 2ms/step - loss: 1172899.2500 - val_loss: 1028650.2500\n",
            "Epoch 49/150\n",
            "15/15 [==============================] - 0s 3ms/step - loss: 1154994.7500 - val_loss: 1013610.3750\n",
            "Epoch 50/150\n",
            "15/15 [==============================] - 0s 2ms/step - loss: 1140524.8750 - val_loss: 999478.0625\n",
            "Epoch 51/150\n",
            "15/15 [==============================] - 0s 2ms/step - loss: 1127338.8750 - val_loss: 985624.8750\n",
            "Epoch 52/150\n",
            "15/15 [==============================] - 0s 3ms/step - loss: 1110028.3750 - val_loss: 970045.0000\n",
            "Epoch 53/150\n",
            "15/15 [==============================] - 0s 3ms/step - loss: 1095831.6250 - val_loss: 956329.1250\n",
            "Epoch 54/150\n",
            "15/15 [==============================] - 0s 3ms/step - loss: 1079280.2500 - val_loss: 941479.0000\n",
            "Epoch 55/150\n",
            "15/15 [==============================] - 0s 2ms/step - loss: 1065463.8750 - val_loss: 927196.2500\n",
            "Epoch 56/150\n",
            "15/15 [==============================] - 0s 2ms/step - loss: 1050342.2500 - val_loss: 913134.7500\n",
            "Epoch 57/150\n",
            "15/15 [==============================] - 0s 2ms/step - loss: 1034772.2500 - val_loss: 899229.8750\n",
            "Epoch 58/150\n",
            "15/15 [==============================] - 0s 2ms/step - loss: 1020103.5625 - val_loss: 884475.3125\n",
            "Epoch 59/150\n",
            "15/15 [==============================] - 0s 3ms/step - loss: 1005267.0625 - val_loss: 869814.5625\n",
            "Epoch 60/150\n",
            "15/15 [==============================] - 0s 2ms/step - loss: 990759.6875 - val_loss: 855881.5000\n",
            "Epoch 61/150\n",
            "15/15 [==============================] - 0s 3ms/step - loss: 975416.9375 - val_loss: 841097.7500\n",
            "Epoch 62/150\n",
            "15/15 [==============================] - 0s 2ms/step - loss: 960223.3750 - val_loss: 827112.1875\n",
            "Epoch 63/150\n",
            "15/15 [==============================] - 0s 2ms/step - loss: 945878.8125 - val_loss: 813115.0625\n",
            "Epoch 64/150\n",
            "15/15 [==============================] - 0s 2ms/step - loss: 932400.0000 - val_loss: 798012.9375\n",
            "Epoch 65/150\n",
            "15/15 [==============================] - 0s 2ms/step - loss: 920448.4375 - val_loss: 784239.6875\n",
            "Epoch 66/150\n",
            "15/15 [==============================] - 0s 2ms/step - loss: 901150.7500 - val_loss: 769261.1875\n",
            "Epoch 67/150\n",
            "15/15 [==============================] - 0s 2ms/step - loss: 887230.1250 - val_loss: 755044.5000\n",
            "Epoch 68/150\n",
            "15/15 [==============================] - 0s 2ms/step - loss: 871584.3750 - val_loss: 741413.7500\n",
            "Epoch 69/150\n",
            "15/15 [==============================] - 0s 3ms/step - loss: 859365.8125 - val_loss: 727038.8125\n",
            "Epoch 70/150\n",
            "15/15 [==============================] - 0s 2ms/step - loss: 842962.0000 - val_loss: 712689.0000\n",
            "Epoch 71/150\n",
            "15/15 [==============================] - 0s 2ms/step - loss: 830354.3750 - val_loss: 698972.5625\n",
            "Epoch 72/150\n",
            "15/15 [==============================] - 0s 2ms/step - loss: 813959.6875 - val_loss: 685186.2500\n",
            "Epoch 73/150\n",
            "15/15 [==============================] - 0s 2ms/step - loss: 802222.7500 - val_loss: 671248.8750\n",
            "Epoch 74/150\n",
            "15/15 [==============================] - 0s 2ms/step - loss: 785993.6875 - val_loss: 657508.8125\n",
            "Epoch 75/150\n",
            "15/15 [==============================] - 0s 3ms/step - loss: 772497.5625 - val_loss: 644387.6250\n",
            "Epoch 76/150\n",
            "15/15 [==============================] - 0s 2ms/step - loss: 760194.6875 - val_loss: 631396.8125\n",
            "Epoch 77/150\n",
            "15/15 [==============================] - 0s 3ms/step - loss: 744840.6875 - val_loss: 618004.8750\n",
            "Epoch 78/150\n",
            "15/15 [==============================] - 0s 3ms/step - loss: 731017.6250 - val_loss: 605472.0625\n",
            "Epoch 79/150\n",
            "15/15 [==============================] - 0s 2ms/step - loss: 718645.9375 - val_loss: 593142.8125\n",
            "Epoch 80/150\n",
            "15/15 [==============================] - 0s 2ms/step - loss: 706275.8125 - val_loss: 580430.2500\n",
            "Epoch 81/150\n",
            "15/15 [==============================] - 0s 2ms/step - loss: 693715.8125 - val_loss: 567951.1875\n",
            "Epoch 82/150\n",
            "15/15 [==============================] - 0s 3ms/step - loss: 680121.8750 - val_loss: 556174.2500\n",
            "Epoch 83/150\n",
            "15/15 [==============================] - 0s 2ms/step - loss: 668261.6250 - val_loss: 544461.4375\n",
            "Epoch 84/150\n",
            "15/15 [==============================] - 0s 2ms/step - loss: 655625.8125 - val_loss: 533531.5625\n",
            "Epoch 85/150\n",
            "15/15 [==============================] - 0s 3ms/step - loss: 646050.1250 - val_loss: 521933.8750\n",
            "Epoch 86/150\n",
            "15/15 [==============================] - 0s 3ms/step - loss: 632435.5000 - val_loss: 511361.0938\n",
            "Epoch 87/150\n",
            "15/15 [==============================] - 0s 2ms/step - loss: 622101.3750 - val_loss: 500596.0000\n",
            "Epoch 88/150\n",
            "15/15 [==============================] - 0s 2ms/step - loss: 613546.0625 - val_loss: 490191.2188\n",
            "Epoch 89/150\n",
            "15/15 [==============================] - 0s 3ms/step - loss: 599981.0625 - val_loss: 480640.6250\n",
            "Epoch 90/150\n",
            "15/15 [==============================] - 0s 3ms/step - loss: 591409.9375 - val_loss: 470480.2500\n",
            "Epoch 91/150\n",
            "15/15 [==============================] - 0s 3ms/step - loss: 580690.3750 - val_loss: 461323.9688\n",
            "Epoch 92/150\n",
            "15/15 [==============================] - 0s 2ms/step - loss: 570777.3125 - val_loss: 453149.5625\n",
            "Epoch 93/150\n",
            "15/15 [==============================] - 0s 3ms/step - loss: 562146.4375 - val_loss: 443829.3438\n",
            "Epoch 94/150\n",
            "15/15 [==============================] - 0s 2ms/step - loss: 552436.5625 - val_loss: 435425.0312\n",
            "Epoch 95/150\n",
            "15/15 [==============================] - 0s 2ms/step - loss: 542998.3750 - val_loss: 427429.2812\n",
            "Epoch 96/150\n",
            "15/15 [==============================] - 0s 2ms/step - loss: 535639.4375 - val_loss: 419177.3750\n",
            "Epoch 97/150\n",
            "15/15 [==============================] - 0s 3ms/step - loss: 526325.0625 - val_loss: 411476.4375\n",
            "Epoch 98/150\n",
            "15/15 [==============================] - 0s 3ms/step - loss: 518185.0000 - val_loss: 403983.5312\n",
            "Epoch 99/150\n",
            "15/15 [==============================] - 0s 2ms/step - loss: 510307.0938 - val_loss: 396538.9062\n",
            "Epoch 100/150\n",
            "15/15 [==============================] - 0s 2ms/step - loss: 502348.9688 - val_loss: 389369.9688\n",
            "Epoch 101/150\n",
            "15/15 [==============================] - 0s 2ms/step - loss: 495743.6250 - val_loss: 382218.1875\n",
            "Epoch 102/150\n",
            "15/15 [==============================] - 0s 2ms/step - loss: 487578.5625 - val_loss: 375312.1250\n",
            "Epoch 103/150\n",
            "15/15 [==============================] - 0s 2ms/step - loss: 480455.0000 - val_loss: 368360.1875\n",
            "Epoch 104/150\n",
            "15/15 [==============================] - 0s 2ms/step - loss: 474974.4062 - val_loss: 361543.6562\n",
            "Epoch 105/150\n",
            "15/15 [==============================] - 0s 2ms/step - loss: 466380.4688 - val_loss: 355596.2812\n",
            "Epoch 106/150\n",
            "15/15 [==============================] - 0s 2ms/step - loss: 460281.8750 - val_loss: 349715.0312\n",
            "Epoch 107/150\n",
            "15/15 [==============================] - 0s 2ms/step - loss: 454966.7812 - val_loss: 344128.6562\n",
            "Epoch 108/150\n",
            "15/15 [==============================] - 0s 3ms/step - loss: 446790.6250 - val_loss: 338176.3125\n",
            "Epoch 109/150\n",
            "15/15 [==============================] - 0s 3ms/step - loss: 441186.4688 - val_loss: 332164.2812\n",
            "Epoch 110/150\n",
            "15/15 [==============================] - 0s 2ms/step - loss: 435764.7812 - val_loss: 326509.6875\n",
            "Epoch 111/150\n",
            "15/15 [==============================] - 0s 2ms/step - loss: 429350.8125 - val_loss: 320735.5000\n",
            "Epoch 112/150\n",
            "15/15 [==============================] - 0s 2ms/step - loss: 423271.3125 - val_loss: 315263.0938\n",
            "Epoch 113/150\n",
            "15/15 [==============================] - 0s 2ms/step - loss: 417980.1562 - val_loss: 310133.3125\n",
            "Epoch 114/150\n",
            "15/15 [==============================] - 0s 3ms/step - loss: 412998.7500 - val_loss: 305361.7500\n",
            "Epoch 115/150\n",
            "15/15 [==============================] - 0s 2ms/step - loss: 407857.3750 - val_loss: 300368.4688\n",
            "Epoch 116/150\n",
            "15/15 [==============================] - 0s 2ms/step - loss: 403032.0000 - val_loss: 295318.4375\n",
            "Epoch 117/150\n",
            "15/15 [==============================] - 0s 3ms/step - loss: 396998.0625 - val_loss: 290714.1250\n",
            "Epoch 118/150\n",
            "15/15 [==============================] - 0s 3ms/step - loss: 392841.5312 - val_loss: 286331.4688\n",
            "Epoch 119/150\n",
            "15/15 [==============================] - 0s 2ms/step - loss: 390316.2188 - val_loss: 282548.9062\n",
            "Epoch 120/150\n",
            "15/15 [==============================] - 0s 2ms/step - loss: 382795.2500 - val_loss: 278054.2500\n",
            "Epoch 121/150\n",
            "15/15 [==============================] - 0s 2ms/step - loss: 378836.6562 - val_loss: 273593.6875\n",
            "Epoch 122/150\n",
            "15/15 [==============================] - 0s 3ms/step - loss: 374881.5938 - val_loss: 269812.3750\n",
            "Epoch 123/150\n",
            "15/15 [==============================] - 0s 3ms/step - loss: 370504.6250 - val_loss: 266557.7188\n",
            "Epoch 124/150\n",
            "15/15 [==============================] - 0s 2ms/step - loss: 367196.1562 - val_loss: 262626.5625\n",
            "Epoch 125/150\n",
            "15/15 [==============================] - 0s 2ms/step - loss: 363258.0312 - val_loss: 259769.4844\n",
            "Epoch 126/150\n",
            "15/15 [==============================] - 0s 2ms/step - loss: 359412.7812 - val_loss: 255446.0469\n",
            "Epoch 127/150\n",
            "15/15 [==============================] - 0s 3ms/step - loss: 356500.8438 - val_loss: 252306.8750\n",
            "Epoch 128/150\n",
            "15/15 [==============================] - 0s 2ms/step - loss: 352463.0000 - val_loss: 248651.3125\n",
            "Epoch 129/150\n",
            "15/15 [==============================] - 0s 2ms/step - loss: 348280.4688 - val_loss: 245667.7031\n",
            "Epoch 130/150\n",
            "15/15 [==============================] - 0s 2ms/step - loss: 345437.7500 - val_loss: 243323.5312\n",
            "Epoch 131/150\n",
            "15/15 [==============================] - 0s 2ms/step - loss: 342629.0625 - val_loss: 240416.0000\n",
            "Epoch 132/150\n",
            "15/15 [==============================] - 0s 3ms/step - loss: 339204.5625 - val_loss: 237171.2500\n",
            "Epoch 133/150\n",
            "15/15 [==============================] - 0s 3ms/step - loss: 336136.1875 - val_loss: 233905.7031\n",
            "Epoch 134/150\n",
            "15/15 [==============================] - 0s 2ms/step - loss: 334174.3438 - val_loss: 231769.7969\n",
            "Epoch 135/150\n",
            "15/15 [==============================] - 0s 2ms/step - loss: 330905.5625 - val_loss: 230105.2188\n",
            "Epoch 136/150\n",
            "15/15 [==============================] - 0s 2ms/step - loss: 328053.3750 - val_loss: 228201.4844\n",
            "Epoch 137/150\n",
            "15/15 [==============================] - 0s 2ms/step - loss: 325067.1875 - val_loss: 224643.4688\n",
            "Epoch 138/150\n",
            "15/15 [==============================] - 0s 2ms/step - loss: 322342.8125 - val_loss: 222417.7656\n",
            "Epoch 139/150\n",
            "15/15 [==============================] - 0s 2ms/step - loss: 320622.9375 - val_loss: 221034.0000\n",
            "Epoch 140/150\n",
            "15/15 [==============================] - 0s 2ms/step - loss: 317607.8125 - val_loss: 218162.3125\n",
            "Epoch 141/150\n",
            "15/15 [==============================] - 0s 3ms/step - loss: 315899.5000 - val_loss: 216660.4062\n",
            "Epoch 142/150\n",
            "15/15 [==============================] - 0s 2ms/step - loss: 312818.4062 - val_loss: 214455.0469\n",
            "Epoch 143/150\n",
            "15/15 [==============================] - 0s 3ms/step - loss: 311064.6875 - val_loss: 212142.5312\n",
            "Epoch 144/150\n",
            "15/15 [==============================] - 0s 2ms/step - loss: 309472.5312 - val_loss: 211358.3281\n",
            "Epoch 145/150\n",
            "15/15 [==============================] - 0s 3ms/step - loss: 306496.2188 - val_loss: 208348.7031\n",
            "Epoch 146/150\n",
            "15/15 [==============================] - 0s 2ms/step - loss: 304699.0000 - val_loss: 206774.8438\n",
            "Epoch 147/150\n",
            "15/15 [==============================] - 0s 2ms/step - loss: 302963.3750 - val_loss: 205073.6250\n",
            "Epoch 148/150\n",
            "15/15 [==============================] - 0s 2ms/step - loss: 301008.7188 - val_loss: 204855.8438\n",
            "Epoch 149/150\n",
            "15/15 [==============================] - 0s 2ms/step - loss: 298665.8438 - val_loss: 201672.1406\n",
            "Epoch 150/150\n",
            "15/15 [==============================] - 0s 2ms/step - loss: 297296.8750 - val_loss: 200104.1406\n"
          ],
          "name": "stdout"
        },
        {
          "output_type": "execute_result",
          "data": {
            "text/plain": [
              "<tensorflow.python.keras.callbacks.History at 0x7f2c0ff77d30>"
            ]
          },
          "metadata": {
            "tags": []
          },
          "execution_count": 295
        }
      ]
    },
    {
      "cell_type": "code",
      "metadata": {
        "id": "vqSUKvD5vl_Q"
      },
      "source": [
        "kayıp = pd.DataFrame(model.history.history)"
      ],
      "execution_count": null,
      "outputs": []
    },
    {
      "cell_type": "code",
      "metadata": {
        "id": "YdBYtHHHwmuj",
        "outputId": "3cfd95d0-01a2-48f2-b5e2-f498b525a382",
        "colab": {
          "base_uri": "https://localhost:8080/",
          "height": 308
        }
      },
      "source": [
        "plt.plot(kayıp)"
      ],
      "execution_count": null,
      "outputs": [
        {
          "output_type": "execute_result",
          "data": {
            "text/plain": [
              "[<matplotlib.lines.Line2D at 0x7f2c0d615940>,\n",
              " <matplotlib.lines.Line2D at 0x7f2c0d615a58>]"
            ]
          },
          "metadata": {
            "tags": []
          },
          "execution_count": 297
        },
        {
          "output_type": "display_data",
          "data": {
            "image/png": "[encoded data removed]",
            "text/plain": [
              "<Figure size 432x288 with 1 Axes>"
            ]
          },
          "metadata": {
            "tags": [],
            "needs_background": "light"
          }
        }
      ]
    },
    {
      "cell_type": "code",
      "metadata": {
        "id": "myBNpghxxLlY"
      },
      "source": [
        "from sklearn.metrics import mean_absolute_error, mean_squared_error"
      ],
      "execution_count": null,
      "outputs": []
    },
    {
      "cell_type": "code",
      "metadata": {
        "id": "u2RHMLHMxXyP"
      },
      "source": [
        "#Modelimize tahmin yaptırdık\n",
        "predict = model.predict(x_test)"
      ],
      "execution_count": null,
      "outputs": []
    },
    {
      "cell_type": "code",
      "metadata": {
        "id": "PRCc_gkyxmcw",
        "outputId": "10bbb94a-d612-41fe-fa56-7ecce28e62ab",
        "colab": {
          "base_uri": "https://localhost:8080/",
          "height": 281
        }
      },
      "source": [
        "plt.scatter(y_test, predict)"
      ],
      "execution_count": null,
      "outputs": [
        {
          "output_type": "execute_result",
          "data": {
            "text/plain": [
              "<matplotlib.collections.PathCollection at 0x7f2c0e576be0>"
            ]
          },
          "metadata": {
            "tags": []
          },
          "execution_count": 300
        },
        {
          "output_type": "display_data",
          "data": {
            "image/png": "[encoded data removed]",
            "text/plain": [
              "<Figure size 432x288 with 1 Axes>"
            ]
          },
          "metadata": {
            "tags": [],
            "needs_background": "light"
          }
        }
      ]
    },
    {
      "cell_type": "code",
      "metadata": {
        "id": "4M-b3B2Sx7RV",
        "outputId": "1cb95905-bd07-4146-c30e-6faab8ee1936",
        "colab": {
          "base_uri": "https://localhost:8080/",
          "height": 33
        }
      },
      "source": [
        "#y_Test ve predict arasındaki mutlak ortalama hataya baktık\n",
        "mean_absolute_error(y_test, predict)"
      ],
      "execution_count": null,
      "outputs": [
        {
          "output_type": "execute_result",
          "data": {
            "text/plain": [
              "332.48308249080884"
            ]
          },
          "metadata": {
            "tags": []
          },
          "execution_count": 301
        }
      ]
    },
    {
      "cell_type": "code",
      "metadata": {
        "id": "0cRYYUUM0n8s"
      },
      "source": [
        "\n",
        "predict = pd.Series(predict.reshape(51,))\n"
      ],
      "execution_count": null,
      "outputs": []
    },
    {
      "cell_type": "code",
      "metadata": {
        "id": "cb57k3Bg2hnK",
        "outputId": "9fbfb348-8d12-44b8-e816-4452f2dd8777",
        "colab": {
          "base_uri": "https://localhost:8080/",
          "height": 1000
        }
      },
      "source": [
        "predictDF = pd.DataFrame(y_test, columns=[\"Gerçek Vakalar\"])\n",
        "predictDF"
      ],
      "execution_count": null,
      "outputs": [
        {
          "output_type": "execute_result",
          "data": {
            "text/html": [
              "<div>\n",
              "<style scoped>\n",
              "    .dataframe tbody tr th:only-of-type {\n",
              "        vertical-align: middle;\n",
              "    }\n",
              "\n",
              "    .dataframe tbody tr th {\n",
              "        vertical-align: top;\n",
              "    }\n",
              "\n",
              "    .dataframe thead th {\n",
              "        text-align: right;\n",
              "    }\n",
              "</style>\n",
              "<table border=\"1\" class=\"dataframe\">\n",
              "  <thead>\n",
              "    <tr style=\"text-align: right;\">\n",
              "      <th></th>\n",
              "      <th>Gerçek Vakalar</th>\n",
              "    </tr>\n",
              "  </thead>\n",
              "  <tbody>\n",
              "    <tr>\n",
              "      <th>0</th>\n",
              "      <td>1692.0</td>\n",
              "    </tr>\n",
              "    <tr>\n",
              "      <th>1</th>\n",
              "      <td>983.0</td>\n",
              "    </tr>\n",
              "    <tr>\n",
              "      <th>2</th>\n",
              "      <td>1263.0</td>\n",
              "    </tr>\n",
              "    <tr>\n",
              "      <th>3</th>\n",
              "      <td>1587.0</td>\n",
              "    </tr>\n",
              "    <tr>\n",
              "      <th>4</th>\n",
              "      <td>827.0</td>\n",
              "    </tr>\n",
              "    <tr>\n",
              "      <th>5</th>\n",
              "      <td>1509.0</td>\n",
              "    </tr>\n",
              "    <tr>\n",
              "      <th>6</th>\n",
              "      <td>0.0</td>\n",
              "    </tr>\n",
              "    <tr>\n",
              "      <th>7</th>\n",
              "      <td>1429.0</td>\n",
              "    </tr>\n",
              "    <tr>\n",
              "      <th>8</th>\n",
              "      <td>4093.0</td>\n",
              "    </tr>\n",
              "    <tr>\n",
              "      <th>9</th>\n",
              "      <td>1195.0</td>\n",
              "    </tr>\n",
              "    <tr>\n",
              "      <th>10</th>\n",
              "      <td>928.0</td>\n",
              "    </tr>\n",
              "    <tr>\n",
              "      <th>11</th>\n",
              "      <td>1771.0</td>\n",
              "    </tr>\n",
              "    <tr>\n",
              "      <th>12</th>\n",
              "      <td>1313.0</td>\n",
              "    </tr>\n",
              "    <tr>\n",
              "      <th>13</th>\n",
              "      <td>2704.0</td>\n",
              "    </tr>\n",
              "    <tr>\n",
              "      <th>14</th>\n",
              "      <td>1610.0</td>\n",
              "    </tr>\n",
              "    <tr>\n",
              "      <th>15</th>\n",
              "      <td>1517.0</td>\n",
              "    </tr>\n",
              "    <tr>\n",
              "      <th>16</th>\n",
              "      <td>1192.0</td>\n",
              "    </tr>\n",
              "    <tr>\n",
              "      <th>17</th>\n",
              "      <td>952.0</td>\n",
              "    </tr>\n",
              "    <tr>\n",
              "      <th>18</th>\n",
              "      <td>1467.0</td>\n",
              "    </tr>\n",
              "    <tr>\n",
              "      <th>19</th>\n",
              "      <td>987.0</td>\n",
              "    </tr>\n",
              "    <tr>\n",
              "      <th>20</th>\n",
              "      <td>972.0</td>\n",
              "    </tr>\n",
              "    <tr>\n",
              "      <th>21</th>\n",
              "      <td>1012.0</td>\n",
              "    </tr>\n",
              "    <tr>\n",
              "      <th>22</th>\n",
              "      <td>2148.0</td>\n",
              "    </tr>\n",
              "    <tr>\n",
              "      <th>23</th>\n",
              "      <td>1639.0</td>\n",
              "    </tr>\n",
              "    <tr>\n",
              "      <th>24</th>\n",
              "      <td>1671.0</td>\n",
              "    </tr>\n",
              "    <tr>\n",
              "      <th>25</th>\n",
              "      <td>1212.0</td>\n",
              "    </tr>\n",
              "    <tr>\n",
              "      <th>26</th>\n",
              "      <td>0.0</td>\n",
              "    </tr>\n",
              "    <tr>\n",
              "      <th>27</th>\n",
              "      <td>2786.0</td>\n",
              "    </tr>\n",
              "    <tr>\n",
              "      <th>28</th>\n",
              "      <td>4353.0</td>\n",
              "    </tr>\n",
              "    <tr>\n",
              "      <th>29</th>\n",
              "      <td>1716.0</td>\n",
              "    </tr>\n",
              "    <tr>\n",
              "      <th>30</th>\n",
              "      <td>1578.0</td>\n",
              "    </tr>\n",
              "    <tr>\n",
              "      <th>31</th>\n",
              "      <td>1704.0</td>\n",
              "    </tr>\n",
              "    <tr>\n",
              "      <th>32</th>\n",
              "      <td>3135.0</td>\n",
              "    </tr>\n",
              "    <tr>\n",
              "      <th>33</th>\n",
              "      <td>987.0</td>\n",
              "    </tr>\n",
              "    <tr>\n",
              "      <th>34</th>\n",
              "      <td>1977.0</td>\n",
              "    </tr>\n",
              "    <tr>\n",
              "      <th>35</th>\n",
              "      <td>902.0</td>\n",
              "    </tr>\n",
              "    <tr>\n",
              "      <th>36</th>\n",
              "      <td>1511.0</td>\n",
              "    </tr>\n",
              "    <tr>\n",
              "      <th>37</th>\n",
              "      <td>2615.0</td>\n",
              "    </tr>\n",
              "    <tr>\n",
              "      <th>38</th>\n",
              "      <td>0.0</td>\n",
              "    </tr>\n",
              "    <tr>\n",
              "      <th>39</th>\n",
              "      <td>1186.0</td>\n",
              "    </tr>\n",
              "    <tr>\n",
              "      <th>40</th>\n",
              "      <td>993.0</td>\n",
              "    </tr>\n",
              "    <tr>\n",
              "      <th>41</th>\n",
              "      <td>1458.0</td>\n",
              "    </tr>\n",
              "    <tr>\n",
              "      <th>42</th>\n",
              "      <td>4056.0</td>\n",
              "    </tr>\n",
              "    <tr>\n",
              "      <th>43</th>\n",
              "      <td>1008.0</td>\n",
              "    </tr>\n",
              "    <tr>\n",
              "      <th>44</th>\n",
              "      <td>1502.0</td>\n",
              "    </tr>\n",
              "    <tr>\n",
              "      <th>45</th>\n",
              "      <td>1158.0</td>\n",
              "    </tr>\n",
              "    <tr>\n",
              "      <th>46</th>\n",
              "      <td>0.0</td>\n",
              "    </tr>\n",
              "    <tr>\n",
              "      <th>47</th>\n",
              "      <td>926.0</td>\n",
              "    </tr>\n",
              "    <tr>\n",
              "      <th>48</th>\n",
              "      <td>963.0</td>\n",
              "    </tr>\n",
              "    <tr>\n",
              "      <th>49</th>\n",
              "      <td>1309.0</td>\n",
              "    </tr>\n",
              "    <tr>\n",
              "      <th>50</th>\n",
              "      <td>2392.0</td>\n",
              "    </tr>\n",
              "  </tbody>\n",
              "</table>\n",
              "</div>"
            ],
            "text/plain": [
              "    Gerçek Vakalar\n",
              "0           1692.0\n",
              "1            983.0\n",
              "2           1263.0\n",
              "3           1587.0\n",
              "4            827.0\n",
              "5           1509.0\n",
              "6              0.0\n",
              "7           1429.0\n",
              "8           4093.0\n",
              "9           1195.0\n",
              "10           928.0\n",
              "11          1771.0\n",
              "12          1313.0\n",
              "13          2704.0\n",
              "14          1610.0\n",
              "15          1517.0\n",
              "16          1192.0\n",
              "17           952.0\n",
              "18          1467.0\n",
              "19           987.0\n",
              "20           972.0\n",
              "21          1012.0\n",
              "22          2148.0\n",
              "23          1639.0\n",
              "24          1671.0\n",
              "25          1212.0\n",
              "26             0.0\n",
              "27          2786.0\n",
              "28          4353.0\n",
              "29          1716.0\n",
              "30          1578.0\n",
              "31          1704.0\n",
              "32          3135.0\n",
              "33           987.0\n",
              "34          1977.0\n",
              "35           902.0\n",
              "36          1511.0\n",
              "37          2615.0\n",
              "38             0.0\n",
              "39          1186.0\n",
              "40           993.0\n",
              "41          1458.0\n",
              "42          4056.0\n",
              "43          1008.0\n",
              "44          1502.0\n",
              "45          1158.0\n",
              "46             0.0\n",
              "47           926.0\n",
              "48           963.0\n",
              "49          1309.0\n",
              "50          2392.0"
            ]
          },
          "metadata": {
            "tags": []
          },
          "execution_count": 303
        }
      ]
    },
    {
      "cell_type": "code",
      "metadata": {
        "id": "uXhcm7jj4OB8",
        "outputId": "7beba4a2-5adb-4c5c-e977-d105439533d7",
        "colab": {
          "base_uri": "https://localhost:8080/",
          "height": 1000
        }
      },
      "source": [
        "#Test verisindeki vaka sayılar ve tahminni vaka sayılarını dataframe'e dönüştürdük ve aynı tabloda gösterdik\n",
        "predictDF = pd.concat([predictDF, predict], axis=1)\n",
        "predictDF"
      ],
      "execution_count": null,
      "outputs": [
        {
          "output_type": "execute_result",
          "data": {
            "text/html": [
              "<div>\n",
              "<style scoped>\n",
              "    .dataframe tbody tr th:only-of-type {\n",
              "        vertical-align: middle;\n",
              "    }\n",
              "\n",
              "    .dataframe tbody tr th {\n",
              "        vertical-align: top;\n",
              "    }\n",
              "\n",
              "    .dataframe thead th {\n",
              "        text-align: right;\n",
              "    }\n",
              "</style>\n",
              "<table border=\"1\" class=\"dataframe\">\n",
              "  <thead>\n",
              "    <tr style=\"text-align: right;\">\n",
              "      <th></th>\n",
              "      <th>Gerçek Vakalar</th>\n",
              "      <th>0</th>\n",
              "    </tr>\n",
              "  </thead>\n",
              "  <tbody>\n",
              "    <tr>\n",
              "      <th>0</th>\n",
              "      <td>1692.0</td>\n",
              "      <td>1865.576538</td>\n",
              "    </tr>\n",
              "    <tr>\n",
              "      <th>1</th>\n",
              "      <td>983.0</td>\n",
              "      <td>1333.798706</td>\n",
              "    </tr>\n",
              "    <tr>\n",
              "      <th>2</th>\n",
              "      <td>1263.0</td>\n",
              "      <td>1105.818726</td>\n",
              "    </tr>\n",
              "    <tr>\n",
              "      <th>3</th>\n",
              "      <td>1587.0</td>\n",
              "      <td>1731.825317</td>\n",
              "    </tr>\n",
              "    <tr>\n",
              "      <th>4</th>\n",
              "      <td>827.0</td>\n",
              "      <td>1184.840576</td>\n",
              "    </tr>\n",
              "    <tr>\n",
              "      <th>5</th>\n",
              "      <td>1509.0</td>\n",
              "      <td>1493.634399</td>\n",
              "    </tr>\n",
              "    <tr>\n",
              "      <th>6</th>\n",
              "      <td>0.0</td>\n",
              "      <td>975.171204</td>\n",
              "    </tr>\n",
              "    <tr>\n",
              "      <th>7</th>\n",
              "      <td>1429.0</td>\n",
              "      <td>1238.639404</td>\n",
              "    </tr>\n",
              "    <tr>\n",
              "      <th>8</th>\n",
              "      <td>4093.0</td>\n",
              "      <td>3092.765869</td>\n",
              "    </tr>\n",
              "    <tr>\n",
              "      <th>9</th>\n",
              "      <td>1195.0</td>\n",
              "      <td>1069.311035</td>\n",
              "    </tr>\n",
              "    <tr>\n",
              "      <th>10</th>\n",
              "      <td>928.0</td>\n",
              "      <td>855.495483</td>\n",
              "    </tr>\n",
              "    <tr>\n",
              "      <th>11</th>\n",
              "      <td>1771.0</td>\n",
              "      <td>1881.142822</td>\n",
              "    </tr>\n",
              "    <tr>\n",
              "      <th>12</th>\n",
              "      <td>1313.0</td>\n",
              "      <td>1233.819336</td>\n",
              "    </tr>\n",
              "    <tr>\n",
              "      <th>13</th>\n",
              "      <td>2704.0</td>\n",
              "      <td>1962.894653</td>\n",
              "    </tr>\n",
              "    <tr>\n",
              "      <th>14</th>\n",
              "      <td>1610.0</td>\n",
              "      <td>1760.849731</td>\n",
              "    </tr>\n",
              "    <tr>\n",
              "      <th>15</th>\n",
              "      <td>1517.0</td>\n",
              "      <td>1586.500488</td>\n",
              "    </tr>\n",
              "    <tr>\n",
              "      <th>16</th>\n",
              "      <td>1192.0</td>\n",
              "      <td>1210.313110</td>\n",
              "    </tr>\n",
              "    <tr>\n",
              "      <th>17</th>\n",
              "      <td>952.0</td>\n",
              "      <td>1392.402954</td>\n",
              "    </tr>\n",
              "    <tr>\n",
              "      <th>18</th>\n",
              "      <td>1467.0</td>\n",
              "      <td>1717.021606</td>\n",
              "    </tr>\n",
              "    <tr>\n",
              "      <th>19</th>\n",
              "      <td>987.0</td>\n",
              "      <td>651.618774</td>\n",
              "    </tr>\n",
              "    <tr>\n",
              "      <th>20</th>\n",
              "      <td>972.0</td>\n",
              "      <td>1154.915894</td>\n",
              "    </tr>\n",
              "    <tr>\n",
              "      <th>21</th>\n",
              "      <td>1012.0</td>\n",
              "      <td>971.338989</td>\n",
              "    </tr>\n",
              "    <tr>\n",
              "      <th>22</th>\n",
              "      <td>2148.0</td>\n",
              "      <td>2257.795166</td>\n",
              "    </tr>\n",
              "    <tr>\n",
              "      <th>23</th>\n",
              "      <td>1639.0</td>\n",
              "      <td>2105.093018</td>\n",
              "    </tr>\n",
              "    <tr>\n",
              "      <th>24</th>\n",
              "      <td>1671.0</td>\n",
              "      <td>1786.061157</td>\n",
              "    </tr>\n",
              "    <tr>\n",
              "      <th>25</th>\n",
              "      <td>1212.0</td>\n",
              "      <td>952.879272</td>\n",
              "    </tr>\n",
              "    <tr>\n",
              "      <th>26</th>\n",
              "      <td>0.0</td>\n",
              "      <td>975.686890</td>\n",
              "    </tr>\n",
              "    <tr>\n",
              "      <th>27</th>\n",
              "      <td>2786.0</td>\n",
              "      <td>2379.229248</td>\n",
              "    </tr>\n",
              "    <tr>\n",
              "      <th>28</th>\n",
              "      <td>4353.0</td>\n",
              "      <td>3705.269531</td>\n",
              "    </tr>\n",
              "    <tr>\n",
              "      <th>29</th>\n",
              "      <td>1716.0</td>\n",
              "      <td>1894.886108</td>\n",
              "    </tr>\n",
              "    <tr>\n",
              "      <th>30</th>\n",
              "      <td>1578.0</td>\n",
              "      <td>1613.120483</td>\n",
              "    </tr>\n",
              "    <tr>\n",
              "      <th>31</th>\n",
              "      <td>1704.0</td>\n",
              "      <td>1341.791992</td>\n",
              "    </tr>\n",
              "    <tr>\n",
              "      <th>32</th>\n",
              "      <td>3135.0</td>\n",
              "      <td>2504.728760</td>\n",
              "    </tr>\n",
              "    <tr>\n",
              "      <th>33</th>\n",
              "      <td>987.0</td>\n",
              "      <td>1257.690430</td>\n",
              "    </tr>\n",
              "    <tr>\n",
              "      <th>34</th>\n",
              "      <td>1977.0</td>\n",
              "      <td>2278.970947</td>\n",
              "    </tr>\n",
              "    <tr>\n",
              "      <th>35</th>\n",
              "      <td>902.0</td>\n",
              "      <td>887.731079</td>\n",
              "    </tr>\n",
              "    <tr>\n",
              "      <th>36</th>\n",
              "      <td>1511.0</td>\n",
              "      <td>1798.040161</td>\n",
              "    </tr>\n",
              "    <tr>\n",
              "      <th>37</th>\n",
              "      <td>2615.0</td>\n",
              "      <td>3187.128174</td>\n",
              "    </tr>\n",
              "    <tr>\n",
              "      <th>38</th>\n",
              "      <td>0.0</td>\n",
              "      <td>976.115906</td>\n",
              "    </tr>\n",
              "    <tr>\n",
              "      <th>39</th>\n",
              "      <td>1186.0</td>\n",
              "      <td>1531.272339</td>\n",
              "    </tr>\n",
              "    <tr>\n",
              "      <th>40</th>\n",
              "      <td>993.0</td>\n",
              "      <td>1252.709106</td>\n",
              "    </tr>\n",
              "    <tr>\n",
              "      <th>41</th>\n",
              "      <td>1458.0</td>\n",
              "      <td>1229.371948</td>\n",
              "    </tr>\n",
              "    <tr>\n",
              "      <th>42</th>\n",
              "      <td>4056.0</td>\n",
              "      <td>2998.725342</td>\n",
              "    </tr>\n",
              "    <tr>\n",
              "      <th>43</th>\n",
              "      <td>1008.0</td>\n",
              "      <td>967.692383</td>\n",
              "    </tr>\n",
              "    <tr>\n",
              "      <th>44</th>\n",
              "      <td>1502.0</td>\n",
              "      <td>1286.960327</td>\n",
              "    </tr>\n",
              "    <tr>\n",
              "      <th>45</th>\n",
              "      <td>1158.0</td>\n",
              "      <td>1394.905640</td>\n",
              "    </tr>\n",
              "    <tr>\n",
              "      <th>46</th>\n",
              "      <td>0.0</td>\n",
              "      <td>976.118652</td>\n",
              "    </tr>\n",
              "    <tr>\n",
              "      <th>47</th>\n",
              "      <td>926.0</td>\n",
              "      <td>861.188477</td>\n",
              "    </tr>\n",
              "    <tr>\n",
              "      <th>48</th>\n",
              "      <td>963.0</td>\n",
              "      <td>814.623413</td>\n",
              "    </tr>\n",
              "    <tr>\n",
              "      <th>49</th>\n",
              "      <td>1309.0</td>\n",
              "      <td>1212.334595</td>\n",
              "    </tr>\n",
              "    <tr>\n",
              "      <th>50</th>\n",
              "      <td>2392.0</td>\n",
              "      <td>3088.547119</td>\n",
              "    </tr>\n",
              "  </tbody>\n",
              "</table>\n",
              "</div>"
            ],
            "text/plain": [
              "    Gerçek Vakalar            0\n",
              "0           1692.0  1865.576538\n",
              "1            983.0  1333.798706\n",
              "2           1263.0  1105.818726\n",
              "3           1587.0  1731.825317\n",
              "4            827.0  1184.840576\n",
              "5           1509.0  1493.634399\n",
              "6              0.0   975.171204\n",
              "7           1429.0  1238.639404\n",
              "8           4093.0  3092.765869\n",
              "9           1195.0  1069.311035\n",
              "10           928.0   855.495483\n",
              "11          1771.0  1881.142822\n",
              "12          1313.0  1233.819336\n",
              "13          2704.0  1962.894653\n",
              "14          1610.0  1760.849731\n",
              "15          1517.0  1586.500488\n",
              "16          1192.0  1210.313110\n",
              "17           952.0  1392.402954\n",
              "18          1467.0  1717.021606\n",
              "19           987.0   651.618774\n",
              "20           972.0  1154.915894\n",
              "21          1012.0   971.338989\n",
              "22          2148.0  2257.795166\n",
              "23          1639.0  2105.093018\n",
              "24          1671.0  1786.061157\n",
              "25          1212.0   952.879272\n",
              "26             0.0   975.686890\n",
              "27          2786.0  2379.229248\n",
              "28          4353.0  3705.269531\n",
              "29          1716.0  1894.886108\n",
              "30          1578.0  1613.120483\n",
              "31          1704.0  1341.791992\n",
              "32          3135.0  2504.728760\n",
              "33           987.0  1257.690430\n",
              "34          1977.0  2278.970947\n",
              "35           902.0   887.731079\n",
              "36          1511.0  1798.040161\n",
              "37          2615.0  3187.128174\n",
              "38             0.0   976.115906\n",
              "39          1186.0  1531.272339\n",
              "40           993.0  1252.709106\n",
              "41          1458.0  1229.371948\n",
              "42          4056.0  2998.725342\n",
              "43          1008.0   967.692383\n",
              "44          1502.0  1286.960327\n",
              "45          1158.0  1394.905640\n",
              "46             0.0   976.118652\n",
              "47           926.0   861.188477\n",
              "48           963.0   814.623413\n",
              "49          1309.0  1212.334595\n",
              "50          2392.0  3088.547119"
            ]
          },
          "metadata": {
            "tags": []
          },
          "execution_count": 304
        }
      ]
    },
    {
      "cell_type": "code",
      "metadata": {
        "id": "cZJXyJMq5k-u",
        "outputId": "92abd548-45c8-454b-cc90-3e87d7042902",
        "colab": {
          "base_uri": "https://localhost:8080/",
          "height": 1000
        }
      },
      "source": [
        "#Tahmin DataFramenin Sutun isimlerini belirledik\n",
        "predictDF.columns=[\"Gerçek Vakalar\", \"Tahmini Vakalar\"]\n",
        "predictDF"
      ],
      "execution_count": null,
      "outputs": [
        {
          "output_type": "execute_result",
          "data": {
            "text/html": [
              "<div>\n",
              "<style scoped>\n",
              "    .dataframe tbody tr th:only-of-type {\n",
              "        vertical-align: middle;\n",
              "    }\n",
              "\n",
              "    .dataframe tbody tr th {\n",
              "        vertical-align: top;\n",
              "    }\n",
              "\n",
              "    .dataframe thead th {\n",
              "        text-align: right;\n",
              "    }\n",
              "</style>\n",
              "<table border=\"1\" class=\"dataframe\">\n",
              "  <thead>\n",
              "    <tr style=\"text-align: right;\">\n",
              "      <th></th>\n",
              "      <th>Gerçek Vakalar</th>\n",
              "      <th>Tahmini Vakalar</th>\n",
              "    </tr>\n",
              "  </thead>\n",
              "  <tbody>\n",
              "    <tr>\n",
              "      <th>0</th>\n",
              "      <td>1692.0</td>\n",
              "      <td>1865.576538</td>\n",
              "    </tr>\n",
              "    <tr>\n",
              "      <th>1</th>\n",
              "      <td>983.0</td>\n",
              "      <td>1333.798706</td>\n",
              "    </tr>\n",
              "    <tr>\n",
              "      <th>2</th>\n",
              "      <td>1263.0</td>\n",
              "      <td>1105.818726</td>\n",
              "    </tr>\n",
              "    <tr>\n",
              "      <th>3</th>\n",
              "      <td>1587.0</td>\n",
              "      <td>1731.825317</td>\n",
              "    </tr>\n",
              "    <tr>\n",
              "      <th>4</th>\n",
              "      <td>827.0</td>\n",
              "      <td>1184.840576</td>\n",
              "    </tr>\n",
              "    <tr>\n",
              "      <th>5</th>\n",
              "      <td>1509.0</td>\n",
              "      <td>1493.634399</td>\n",
              "    </tr>\n",
              "    <tr>\n",
              "      <th>6</th>\n",
              "      <td>0.0</td>\n",
              "      <td>975.171204</td>\n",
              "    </tr>\n",
              "    <tr>\n",
              "      <th>7</th>\n",
              "      <td>1429.0</td>\n",
              "      <td>1238.639404</td>\n",
              "    </tr>\n",
              "    <tr>\n",
              "      <th>8</th>\n",
              "      <td>4093.0</td>\n",
              "      <td>3092.765869</td>\n",
              "    </tr>\n",
              "    <tr>\n",
              "      <th>9</th>\n",
              "      <td>1195.0</td>\n",
              "      <td>1069.311035</td>\n",
              "    </tr>\n",
              "    <tr>\n",
              "      <th>10</th>\n",
              "      <td>928.0</td>\n",
              "      <td>855.495483</td>\n",
              "    </tr>\n",
              "    <tr>\n",
              "      <th>11</th>\n",
              "      <td>1771.0</td>\n",
              "      <td>1881.142822</td>\n",
              "    </tr>\n",
              "    <tr>\n",
              "      <th>12</th>\n",
              "      <td>1313.0</td>\n",
              "      <td>1233.819336</td>\n",
              "    </tr>\n",
              "    <tr>\n",
              "      <th>13</th>\n",
              "      <td>2704.0</td>\n",
              "      <td>1962.894653</td>\n",
              "    </tr>\n",
              "    <tr>\n",
              "      <th>14</th>\n",
              "      <td>1610.0</td>\n",
              "      <td>1760.849731</td>\n",
              "    </tr>\n",
              "    <tr>\n",
              "      <th>15</th>\n",
              "      <td>1517.0</td>\n",
              "      <td>1586.500488</td>\n",
              "    </tr>\n",
              "    <tr>\n",
              "      <th>16</th>\n",
              "      <td>1192.0</td>\n",
              "      <td>1210.313110</td>\n",
              "    </tr>\n",
              "    <tr>\n",
              "      <th>17</th>\n",
              "      <td>952.0</td>\n",
              "      <td>1392.402954</td>\n",
              "    </tr>\n",
              "    <tr>\n",
              "      <th>18</th>\n",
              "      <td>1467.0</td>\n",
              "      <td>1717.021606</td>\n",
              "    </tr>\n",
              "    <tr>\n",
              "      <th>19</th>\n",
              "      <td>987.0</td>\n",
              "      <td>651.618774</td>\n",
              "    </tr>\n",
              "    <tr>\n",
              "      <th>20</th>\n",
              "      <td>972.0</td>\n",
              "      <td>1154.915894</td>\n",
              "    </tr>\n",
              "    <tr>\n",
              "      <th>21</th>\n",
              "      <td>1012.0</td>\n",
              "      <td>971.338989</td>\n",
              "    </tr>\n",
              "    <tr>\n",
              "      <th>22</th>\n",
              "      <td>2148.0</td>\n",
              "      <td>2257.795166</td>\n",
              "    </tr>\n",
              "    <tr>\n",
              "      <th>23</th>\n",
              "      <td>1639.0</td>\n",
              "      <td>2105.093018</td>\n",
              "    </tr>\n",
              "    <tr>\n",
              "      <th>24</th>\n",
              "      <td>1671.0</td>\n",
              "      <td>1786.061157</td>\n",
              "    </tr>\n",
              "    <tr>\n",
              "      <th>25</th>\n",
              "      <td>1212.0</td>\n",
              "      <td>952.879272</td>\n",
              "    </tr>\n",
              "    <tr>\n",
              "      <th>26</th>\n",
              "      <td>0.0</td>\n",
              "      <td>975.686890</td>\n",
              "    </tr>\n",
              "    <tr>\n",
              "      <th>27</th>\n",
              "      <td>2786.0</td>\n",
              "      <td>2379.229248</td>\n",
              "    </tr>\n",
              "    <tr>\n",
              "      <th>28</th>\n",
              "      <td>4353.0</td>\n",
              "      <td>3705.269531</td>\n",
              "    </tr>\n",
              "    <tr>\n",
              "      <th>29</th>\n",
              "      <td>1716.0</td>\n",
              "      <td>1894.886108</td>\n",
              "    </tr>\n",
              "    <tr>\n",
              "      <th>30</th>\n",
              "      <td>1578.0</td>\n",
              "      <td>1613.120483</td>\n",
              "    </tr>\n",
              "    <tr>\n",
              "      <th>31</th>\n",
              "      <td>1704.0</td>\n",
              "      <td>1341.791992</td>\n",
              "    </tr>\n",
              "    <tr>\n",
              "      <th>32</th>\n",
              "      <td>3135.0</td>\n",
              "      <td>2504.728760</td>\n",
              "    </tr>\n",
              "    <tr>\n",
              "      <th>33</th>\n",
              "      <td>987.0</td>\n",
              "      <td>1257.690430</td>\n",
              "    </tr>\n",
              "    <tr>\n",
              "      <th>34</th>\n",
              "      <td>1977.0</td>\n",
              "      <td>2278.970947</td>\n",
              "    </tr>\n",
              "    <tr>\n",
              "      <th>35</th>\n",
              "      <td>902.0</td>\n",
              "      <td>887.731079</td>\n",
              "    </tr>\n",
              "    <tr>\n",
              "      <th>36</th>\n",
              "      <td>1511.0</td>\n",
              "      <td>1798.040161</td>\n",
              "    </tr>\n",
              "    <tr>\n",
              "      <th>37</th>\n",
              "      <td>2615.0</td>\n",
              "      <td>3187.128174</td>\n",
              "    </tr>\n",
              "    <tr>\n",
              "      <th>38</th>\n",
              "      <td>0.0</td>\n",
              "      <td>976.115906</td>\n",
              "    </tr>\n",
              "    <tr>\n",
              "      <th>39</th>\n",
              "      <td>1186.0</td>\n",
              "      <td>1531.272339</td>\n",
              "    </tr>\n",
              "    <tr>\n",
              "      <th>40</th>\n",
              "      <td>993.0</td>\n",
              "      <td>1252.709106</td>\n",
              "    </tr>\n",
              "    <tr>\n",
              "      <th>41</th>\n",
              "      <td>1458.0</td>\n",
              "      <td>1229.371948</td>\n",
              "    </tr>\n",
              "    <tr>\n",
              "      <th>42</th>\n",
              "      <td>4056.0</td>\n",
              "      <td>2998.725342</td>\n",
              "    </tr>\n",
              "    <tr>\n",
              "      <th>43</th>\n",
              "      <td>1008.0</td>\n",
              "      <td>967.692383</td>\n",
              "    </tr>\n",
              "    <tr>\n",
              "      <th>44</th>\n",
              "      <td>1502.0</td>\n",
              "      <td>1286.960327</td>\n",
              "    </tr>\n",
              "    <tr>\n",
              "      <th>45</th>\n",
              "      <td>1158.0</td>\n",
              "      <td>1394.905640</td>\n",
              "    </tr>\n",
              "    <tr>\n",
              "      <th>46</th>\n",
              "      <td>0.0</td>\n",
              "      <td>976.118652</td>\n",
              "    </tr>\n",
              "    <tr>\n",
              "      <th>47</th>\n",
              "      <td>926.0</td>\n",
              "      <td>861.188477</td>\n",
              "    </tr>\n",
              "    <tr>\n",
              "      <th>48</th>\n",
              "      <td>963.0</td>\n",
              "      <td>814.623413</td>\n",
              "    </tr>\n",
              "    <tr>\n",
              "      <th>49</th>\n",
              "      <td>1309.0</td>\n",
              "      <td>1212.334595</td>\n",
              "    </tr>\n",
              "    <tr>\n",
              "      <th>50</th>\n",
              "      <td>2392.0</td>\n",
              "      <td>3088.547119</td>\n",
              "    </tr>\n",
              "  </tbody>\n",
              "</table>\n",
              "</div>"
            ],
            "text/plain": [
              "    Gerçek Vakalar  Tahmini Vakalar\n",
              "0           1692.0      1865.576538\n",
              "1            983.0      1333.798706\n",
              "2           1263.0      1105.818726\n",
              "3           1587.0      1731.825317\n",
              "4            827.0      1184.840576\n",
              "5           1509.0      1493.634399\n",
              "6              0.0       975.171204\n",
              "7           1429.0      1238.639404\n",
              "8           4093.0      3092.765869\n",
              "9           1195.0      1069.311035\n",
              "10           928.0       855.495483\n",
              "11          1771.0      1881.142822\n",
              "12          1313.0      1233.819336\n",
              "13          2704.0      1962.894653\n",
              "14          1610.0      1760.849731\n",
              "15          1517.0      1586.500488\n",
              "16          1192.0      1210.313110\n",
              "17           952.0      1392.402954\n",
              "18          1467.0      1717.021606\n",
              "19           987.0       651.618774\n",
              "20           972.0      1154.915894\n",
              "21          1012.0       971.338989\n",
              "22          2148.0      2257.795166\n",
              "23          1639.0      2105.093018\n",
              "24          1671.0      1786.061157\n",
              "25          1212.0       952.879272\n",
              "26             0.0       975.686890\n",
              "27          2786.0      2379.229248\n",
              "28          4353.0      3705.269531\n",
              "29          1716.0      1894.886108\n",
              "30          1578.0      1613.120483\n",
              "31          1704.0      1341.791992\n",
              "32          3135.0      2504.728760\n",
              "33           987.0      1257.690430\n",
              "34          1977.0      2278.970947\n",
              "35           902.0       887.731079\n",
              "36          1511.0      1798.040161\n",
              "37          2615.0      3187.128174\n",
              "38             0.0       976.115906\n",
              "39          1186.0      1531.272339\n",
              "40           993.0      1252.709106\n",
              "41          1458.0      1229.371948\n",
              "42          4056.0      2998.725342\n",
              "43          1008.0       967.692383\n",
              "44          1502.0      1286.960327\n",
              "45          1158.0      1394.905640\n",
              "46             0.0       976.118652\n",
              "47           926.0       861.188477\n",
              "48           963.0       814.623413\n",
              "49          1309.0      1212.334595\n",
              "50          2392.0      3088.547119"
            ]
          },
          "metadata": {
            "tags": []
          },
          "execution_count": 305
        }
      ]
    }
  ]
}